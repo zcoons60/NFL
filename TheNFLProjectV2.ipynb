{
 "cells": [
  {
   "cell_type": "code",
   "execution_count": 1,
   "metadata": {},
   "outputs": [],
   "source": [
    "import http.client\n",
    "\n",
    "conn = http.client.HTTPSConnection(\"v1.american-football.api-sports.io\")\n",
    "\n",
    "headers = {\n",
    "    'x-rapidapi-host': \"v1.american-football.api-sports.io\",\n",
    "    'x-rapidapi-key': \"XxXxXxXxXxXxXxXxXxXxXxXx\"\n",
    "    }\n",
    "\n",
    "conn.request(\"GET\", \"/players?id=1\", headers=headers)\n",
    "\n",
    "res = conn.getresponse()\n",
    "data = res.read()\n",
    "\n",
    "# aab5948373msha68022cf954b872p1f681cjsnc989c0281be9\n",
    "\n",
    "# IF you think about it, CnBC\n"
   ]
  }
 ],
 "metadata": {
  "kernelspec": {
   "display_name": "Python 3",
   "language": "python",
   "name": "python3"
  },
  "language_info": {
   "codemirror_mode": {
    "name": "ipython",
    "version": 3
   },
   "file_extension": ".py",
   "mimetype": "text/x-python",
   "name": "python",
   "nbconvert_exporter": "python",
   "pygments_lexer": "ipython3",
   "version": "3.12.0"
  }
 },
 "nbformat": 4,
 "nbformat_minor": 2
}
