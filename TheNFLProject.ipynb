{
 "cells": [
  {
   "cell_type": "code",
   "execution_count": null,
   "metadata": {},
   "outputs": [],
   "source": []
  },
  {
   "cell_type": "code",
   "execution_count": null,
   "metadata": {},
   "outputs": [],
   "source": []
  },
  {
   "cell_type": "code",
   "execution_count": 1,
   "metadata": {},
   "outputs": [],
   "source": [
    "# Player Search\n",
    "import requests\n",
    "import json\n",
    "\n",
    "url = \"https://americanfootballapi.p.rapidapi.com/api/american-football/search/burrow\"\n",
    "\n",
    "headers = {\n",
    "\t\"X-RapidAPI-Key\": \"aab5948373msha68022cf954b872p1f681cjsnc989c0281be9\",\n",
    "\t\"X-RapidAPI-Host\": \"americanfootballapi.p.rapidapi.com\"\n",
    "}\n",
    "\n",
    "rawData = requests.get(url, headers=headers)\n",
    "\n",
    "pythonDict = json.loads(rawData.text)\n",
    "\n",
    "#print(pythonDict)"
   ]
  },
  {
   "cell_type": "code",
   "execution_count": 2,
   "metadata": {},
   "outputs": [
    {
     "name": "stdout",
     "output_type": "stream",
     "text": [
      "{'message': 'You are not subscribed to this API.'}\n"
     ]
    }
   ],
   "source": [
    "# This pulls the matches for just this week from the API and prints them out as a srting\n",
    "# The important part is that I need to be able to access the game IDs and this allows me to do it \n",
    "\n",
    "import pandas as pd\n",
    "import requests\n",
    "\n",
    "url = \"https://americanfootballapi.p.rapidapi.com/api/american-football/matches/3/12/2023\"\n",
    "\n",
    "headers = {\n",
    "\t\"X-RapidAPI-Key\": \"aab5948373msha68022cf954b872p1f681cjsnc989c0281be9\",\n",
    "\t\"X-RapidAPI-Host\": \"americanfootballapi.p.rapidapi.com\"\n",
    "}\n",
    "rawData = requests.get(url, headers=headers)\n",
    "\n",
    "matchSchedule = json.loads(rawData.text)\n",
    "\n",
    "print(matchSchedule)"
   ]
  },
  {
   "cell_type": "code",
   "execution_count": 2,
   "metadata": {},
   "outputs": [
    {
     "ename": "NameError",
     "evalue": "name 'matchSchedule' is not defined",
     "output_type": "error",
     "traceback": [
      "\u001b[1;31m---------------------------------------------------------------------------\u001b[0m",
      "\u001b[1;31mNameError\u001b[0m                                 Traceback (most recent call last)",
      "\u001b[1;32mc:\\Users\\Zcoon\\OneDrive\\Documents\\VisualStudioProjects\\fantasydata-api-python\\TheNFLProject.ipynb Cell 5\u001b[0m line \u001b[0;36m1\n\u001b[0;32m     <a href='vscode-notebook-cell:/c%3A/Users/Zcoon/OneDrive/Documents/VisualStudioProjects/fantasydata-api-python/TheNFLProject.ipynb#W4sZmlsZQ%3D%3D?line=12'>13</a>\u001b[0m \u001b[39m# Extract relevant information\u001b[39;00m\n\u001b[0;32m     <a href='vscode-notebook-cell:/c%3A/Users/Zcoon/OneDrive/Documents/VisualStudioProjects/fantasydata-api-python/TheNFLProject.ipynb#W4sZmlsZQ%3D%3D?line=13'>14</a>\u001b[0m nfl_games \u001b[39m=\u001b[39m []\n\u001b[1;32m---> <a href='vscode-notebook-cell:/c%3A/Users/Zcoon/OneDrive/Documents/VisualStudioProjects/fantasydata-api-python/TheNFLProject.ipynb#W4sZmlsZQ%3D%3D?line=15'>16</a>\u001b[0m \u001b[39mfor\u001b[39;00m event \u001b[39min\u001b[39;00m matchSchedule[\u001b[39m'\u001b[39m\u001b[39mevents\u001b[39m\u001b[39m'\u001b[39m]:\n\u001b[0;32m     <a href='vscode-notebook-cell:/c%3A/Users/Zcoon/OneDrive/Documents/VisualStudioProjects/fantasydata-api-python/TheNFLProject.ipynb#W4sZmlsZQ%3D%3D?line=16'>17</a>\u001b[0m     tournament_name \u001b[39m=\u001b[39m event[\u001b[39m'\u001b[39m\u001b[39mtournament\u001b[39m\u001b[39m'\u001b[39m][\u001b[39m'\u001b[39m\u001b[39mname\u001b[39m\u001b[39m'\u001b[39m]\n\u001b[0;32m     <a href='vscode-notebook-cell:/c%3A/Users/Zcoon/OneDrive/Documents/VisualStudioProjects/fantasydata-api-python/TheNFLProject.ipynb#W4sZmlsZQ%3D%3D?line=17'>18</a>\u001b[0m     \u001b[39mif\u001b[39;00m \u001b[39m\"\u001b[39m\u001b[39mNFL\u001b[39m\u001b[39m\"\u001b[39m \u001b[39min\u001b[39;00m tournament_name:\n\u001b[0;32m     <a href='vscode-notebook-cell:/c%3A/Users/Zcoon/OneDrive/Documents/VisualStudioProjects/fantasydata-api-python/TheNFLProject.ipynb#W4sZmlsZQ%3D%3D?line=18'>19</a>\u001b[0m         \u001b[39m# Extract tournament and season IDs\u001b[39;00m\n",
      "\u001b[1;31mNameError\u001b[0m: name 'matchSchedule' is not defined"
     ]
    }
   ],
   "source": [
    "import pandas as pd\n",
    "import datetime\n",
    "from datetime import timezone\n",
    "\n",
    "# Set option to display all headers at the top\n",
    "pd.set_option('display.max_columns', None)\n",
    "\n",
    "# Function to convert timestamp to Eastern Time\n",
    "def timestamp_to_datetime(timestamp):\n",
    "    eastern_tz = timezone(timedelta(hours=-5))  # Eastern Time offset is -5 hours\n",
    "    return datetime.datetime.fromtimestamp(timestamp, eastern_tz).strftime('%Y/%m/%d %I:%M %p')\n",
    "\n",
    "# Extract relevant information\n",
    "nfl_games = []\n",
    "\n",
    "for event in matchSchedule['events']:\n",
    "    tournament_name = event['tournament']['name']\n",
    "    if \"NFL\" in tournament_name:\n",
    "        # Extract tournament and season IDs\n",
    "        tournament_id = event['tournament']['id']\n",
    "\n",
    "        # Append the event details to nfl_games list\n",
    "        nfl_games.append({\n",
    "            'Home Team': event['homeTeam']['name'],\n",
    "            'Away Team': event['awayTeam']['name'],\n",
    "            'Start Time': timestamp_to_datetime(event['startTimestamp']),\n",
    "            'Tournament ID': tournament_id,\n",
    "            'ID': event['id']\n",
    "        })\n",
    "\n",
    "# Create DataFrame\n",
    "df = pd.DataFrame(nfl_games)\n",
    "\n",
    "print(df)\n"
   ]
  },
  {
   "cell_type": "code",
   "execution_count": 5,
   "metadata": {},
   "outputs": [
    {
     "name": "stdout",
     "output_type": "stream",
     "text": [
      "{'message': 'You are not subscribed to this API.'}\n"
     ]
    }
   ],
   "source": [
    "# OKAY SO I STOPPED BY I NEED TO BE ABLE TO ACCESS SEASON ID IF I WANT TO SEARCH PLAYERS. IVE BEEN SETTING UP THE FRAMES TO ACCESS THE DATA\n",
    "\n",
    "\n",
    "import requests\n",
    "\n",
    "url = \"https://americanfootballapi.p.rapidapi.com/api/american-football/team/4294/standings/seasons\"\n",
    "\n",
    "headers = {\n",
    "\t\"X-RapidAPI-Key\": \"aab5948373msha68022cf954b872p1f681cjsnc989c0281be9\",\n",
    "\t\"X-RapidAPI-Host\": \"americanfootballapi.p.rapidapi.com\"\n",
    "}\n",
    "\n",
    "rdSeason = requests.get(url, headers=headers)\n",
    "\n",
    "seasonSched = json.loads(rdSeason.text)\n",
    "\n",
    "print(seasonSched)\n",
    "\n",
    "# For loop to extract relevant information from data and append to list\n",
    "seasons = []\n"
   ]
  },
  {
   "cell_type": "code",
   "execution_count": 1,
   "metadata": {},
   "outputs": [
    {
     "ename": "NameError",
     "evalue": "name 'pd' is not defined",
     "output_type": "error",
     "traceback": [
      "\u001b[1;31m---------------------------------------------------------------------------\u001b[0m",
      "\u001b[1;31mNameError\u001b[0m                                 Traceback (most recent call last)",
      "\u001b[1;32mc:\\Users\\Zcoon\\OneDrive\\Documents\\VisualStudioProjects\\fantasydata-api-python\\TheNFLProject.ipynb Cell 7\u001b[0m line \u001b[0;36m1\n\u001b[1;32m----> <a href='vscode-notebook-cell:/c%3A/Users/Zcoon/OneDrive/Documents/VisualStudioProjects/fantasydata-api-python/TheNFLProject.ipynb#W6sZmlsZQ%3D%3D?line=0'>1</a>\u001b[0m df \u001b[39m=\u001b[39m pd\u001b[39m.\u001b[39mDataFrame(seasonSched)\n\u001b[0;32m      <a href='vscode-notebook-cell:/c%3A/Users/Zcoon/OneDrive/Documents/VisualStudioProjects/fantasydata-api-python/TheNFLProject.ipynb#W6sZmlsZQ%3D%3D?line=2'>3</a>\u001b[0m \u001b[39mprint\u001b[39m(df)\n",
      "\u001b[1;31mNameError\u001b[0m: name 'pd' is not defined"
     ]
    }
   ],
   "source": [
    "df = pd.DataFrame(seasonSched)\n",
    "\n",
    "print(df)"
   ]
  },
  {
   "cell_type": "code",
   "execution_count": null,
   "metadata": {},
   "outputs": [],
   "source": [
    "# https://rapidapi.com/api-sports/api/api-american-football   I REALLY THINK I SHOULD JUST USE THIS BECAUSE THE NAVIGATION MAKES WAY MORE SENSE"
   ]
  },
  {
   "cell_type": "code",
   "execution_count": null,
   "metadata": {},
   "outputs": [],
   "source": []
  },
  {
   "cell_type": "code",
   "execution_count": null,
   "metadata": {},
   "outputs": [],
   "source": []
  }
 ],
 "metadata": {
  "kernelspec": {
   "display_name": "Python 3",
   "language": "python",
   "name": "python3"
  },
  "language_info": {
   "codemirror_mode": {
    "name": "ipython",
    "version": 3
   },
   "file_extension": ".py",
   "mimetype": "text/x-python",
   "name": "python",
   "nbconvert_exporter": "python",
   "pygments_lexer": "ipython3",
   "version": "3.12.0"
  }
 },
 "nbformat": 4,
 "nbformat_minor": 2
}
